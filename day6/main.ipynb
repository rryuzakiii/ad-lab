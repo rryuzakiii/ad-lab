{
 "cells": [
  {
   "cell_type": "code",
   "execution_count": 72,
   "metadata": {},
   "outputs": [],
   "source": [
    "import pandas as pd\n",
    "import numpy as np\n",
    "import matplotlib.pyplot as plt\n",
    "import seaborn as sns\n",
    "import nltk\n",
    "from nltk.corpus import stopwords\n",
    "from nltk.stem import PorterStemmer\n",
    "from sklearn.model_selection import train_test_split\n",
    "from sklearn.feature_extraction.text import TfidfVectorizer\n",
    "from sklearn.naive_bayes import MultinomialNB\n",
    "from sklearn.metrics import classification_report, confusion_matrix, accuracy_score\n"
   ]
  },
  {
   "cell_type": "code",
   "execution_count": 79,
   "metadata": {},
   "outputs": [],
   "source": [
    "df = pd.read_csv(\"./1.ushape.csv\", header= None, names=[\"label\",\"text\", \"class\"])"
   ]
  },
  {
   "cell_type": "code",
   "execution_count": null,
   "metadata": {},
   "outputs": [],
   "source": [
    "stemmer = PorterStemmer()\n",
    "\n",
    "def clean_text(message):\n",
    "    message = message.lower()\n",
    "\n",
    "    tokens = nltk.word_tokenize(message)\n",
    "\n",
    "    a = [t for t in a if t.isalpha() and t not in q]\n",
    "\n",
    "    tokens = [stemmer.stem(word) for word in tokens]\n",
    "\n",
    "    return \" \".join(tokens)\n"
   ]
  },
  {
   "cell_type": "code",
   "execution_count": 47,
   "metadata": {},
   "outputs": [
    {
     "data": {
      "text/html": [
       "<div>\n",
       "<style scoped>\n",
       "    .dataframe tbody tr th:only-of-type {\n",
       "        vertical-align: middle;\n",
       "    }\n",
       "\n",
       "    .dataframe tbody tr th {\n",
       "        vertical-align: top;\n",
       "    }\n",
       "\n",
       "    .dataframe thead th {\n",
       "        text-align: right;\n",
       "    }\n",
       "</style>\n",
       "<table border=\"1\" class=\"dataframe\">\n",
       "  <thead>\n",
       "    <tr style=\"text-align: right;\">\n",
       "      <th></th>\n",
       "      <th>text</th>\n",
       "      <th>cleaned_text</th>\n",
       "    </tr>\n",
       "  </thead>\n",
       "  <tbody>\n",
       "  </tbody>\n",
       "</table>\n",
       "</div>"
      ],
      "text/plain": [
       "Empty DataFrame\n",
       "Columns: [text, cleaned_text]\n",
       "Index: []"
      ]
     },
     "execution_count": 47,
     "metadata": {},
     "output_type": "execute_result"
    }
   ],
   "source": [
    "\n",
    "df['cleaned_text'] = df['text'].apply(clean_text)\n",
    "df[['text', 'cleaned_text']].head()"
   ]
  },
  {
   "cell_type": "code",
   "execution_count": 51,
   "metadata": {},
   "outputs": [],
   "source": [
    "def clean_text(message):\n",
    "    # Handle non-string inputs\n",
    "    if not isinstance(message, str):\n",
    "        print(\"Invalid input:\", message)\n",
    "        return \"\"\n",
    "    \n",
    "    # Lowercase\n",
    "    message = message.lower()\n",
    "    print(\"Lowercased:\", message)\n",
    "\n",
    "    # Tokenize\n",
    "    tokens = nltk.word_tokenize(message)\n",
    "    print(\"Tokens:\", tokens)\n",
    "\n",
    "    # Remove non-alphabetic words and stopwords\n",
    "    tokens = [word for word in tokens if word.isalpha() and word not in stop_words]\n",
    "    print(\"After removing stopwords:\", tokens)\n",
    "\n",
    "    # Stem words\n",
    "    tokens = [stemmer.stem(word) for word in tokens]\n",
    "    print(\"After stemming:\", tokens)\n",
    "\n",
    "    return \" \".join(tokens)\n",
    "\n",
    "# Apply cleaning function\n",
    "df['cleaned_text'] = df['text'].apply(clean_text)\n"
   ]
  },
  {
   "cell_type": "code",
   "execution_count": 53,
   "metadata": {},
   "outputs": [],
   "source": [
    "# Convert all values in the 'text' column to strings\n",
    "df['text'] = df['text'].astype(str)\n",
    "df['text'] = df['text'].fillna(\"\")\n",
    "\n",
    "# Remove rows with completely empty text\n",
    "df = df[df['text'].str.strip() != \"\"]\n"
   ]
  },
  {
   "cell_type": "code",
   "execution_count": 54,
   "metadata": {},
   "outputs": [
    {
     "name": "stdout",
     "output_type": "stream",
     "text": [
      "Sample data from 'text' column:\n",
      "Series([], Name: text, dtype: object)\n",
      "Number of NaN values in 'text': 0\n",
      "Number of completely empty rows: 0\n"
     ]
    }
   ],
   "source": [
    "print(\"Sample data from 'text' column:\")\n",
    "print(df['text'].head())\n",
    "\n",
    "# Check for empty or NaN values\n",
    "print(\"Number of NaN values in 'text':\", df['text'].isna().sum())\n",
    "print(\"Number of completely empty rows:\", (df['text'].str.strip() == \"\").sum())\n"
   ]
  },
  {
   "cell_type": "code",
   "execution_count": 59,
   "metadata": {},
   "outputs": [],
   "source": [
    "y = df['label'].map({'ham': 0, 'spam': 1})\n"
   ]
  },
  {
   "cell_type": "code",
   "execution_count": 62,
   "metadata": {},
   "outputs": [
    {
     "data": {
      "text/plain": [
       "Series([], Name: label, dtype: int64)"
      ]
     },
     "execution_count": 62,
     "metadata": {},
     "output_type": "execute_result"
    }
   ],
   "source": [
    "y"
   ]
  }
 ],
 "metadata": {
  "kernelspec": {
   "display_name": "ad",
   "language": "python",
   "name": "python3"
  },
  "language_info": {
   "codemirror_mode": {
    "name": "ipython",
    "version": 3
   },
   "file_extension": ".py",
   "mimetype": "text/x-python",
   "name": "python",
   "nbconvert_exporter": "python",
   "pygments_lexer": "ipython3",
   "version": "3.12.4"
  }
 },
 "nbformat": 4,
 "nbformat_minor": 2
}
